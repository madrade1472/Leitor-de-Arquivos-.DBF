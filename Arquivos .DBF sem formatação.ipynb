{
 "cells": [
  {
   "cell_type": "code",
   "execution_count": 1,
   "id": "00f0d3ab",
   "metadata": {},
   "outputs": [],
   "source": [
    "import dbf\n",
    "import pandas as pd"
   ]
  },
  {
   "cell_type": "code",
   "execution_count": 2,
   "id": "894ae1a9",
   "metadata": {},
   "outputs": [],
   "source": [
    "table = dbf.Table(filename='C:/Users/29086/Downloads/FFF_BRA_PM_PPP_EUF_202207/PM_PPP_PACK.DBF')\n"
   ]
  },
  {
   "cell_type": "code",
   "execution_count": 3,
   "id": "4d9661f1",
   "metadata": {},
   "outputs": [
    {
     "data": {
      "text/plain": [
       "dbf.Table('C:/Users/29086/Downloads/FFF_BRA_PM_PPP_EUF_202207/PM_PPP_PACK.DBF', status=<DbfStatus.READ_ONLY: 1>)"
      ]
     },
     "execution_count": 3,
     "metadata": {},
     "output_type": "execute_result"
    }
   ],
   "source": [
    "table.open(dbf.READ_ONLY)\n"
   ]
  },
  {
   "cell_type": "code",
   "execution_count": 4,
   "id": "b6d7871f",
   "metadata": {},
   "outputs": [],
   "source": [
    "df = pd.DataFrame(table)\n"
   ]
  },
  {
   "cell_type": "code",
   "execution_count": 5,
   "id": "7479a91f",
   "metadata": {},
   "outputs": [],
   "source": [
    "table.close()\n"
   ]
  },
  {
   "cell_type": "code",
   "execution_count": 6,
   "id": "fbd7f464",
   "metadata": {},
   "outputs": [
    {
     "name": "stdout",
     "output_type": "stream",
     "text": [
      "            0      1           2   \\\n",
      "0      0000101  00001  0000060224   \n",
      "1      0000501  00005  0000060229   \n",
      "2      0000703  00007  0000178089   \n",
      "3      0000704  00007  0000178090   \n",
      "4      0000705  00007  0000208468   \n",
      "...        ...    ...         ...   \n",
      "45252  9390920  93909  0000057214   \n",
      "45253  9390940  93909  0000057215   \n",
      "45254  9391915  93919  0000059386   \n",
      "45255  9392920  93929  0000059387   \n",
      "45256  9393930  93939  0000059388   \n",
      "\n",
      "                                                      3         4  5  6   \\\n",
      "0      ALPHAGAN P SOL OFTAL 0.15 % 5 ML x 1          ...  20020801  E  R   \n",
      "1      BACINANTRAT POMADA 5MG/ 250 IU 10 G x 1 (/G)  ...  19980401  E  M   \n",
      "2      COMPLEXIMED B DRAG x 50                       ...  20150701  P  M   \n",
      "3      COMPLEXIMED B DRAG x 100                      ...  20150701  P  M   \n",
      "4      COMPLEXIMED B GOTAS 30 ML x 1                 ...  20170201  P  M   \n",
      "...                                                  ...       ... .. ..   \n",
      "45252  ZYVOX CPR REVEST 600 MG x 10                  ...  20000901  E  R   \n",
      "45253  ZYVOX F.IV INFUSAO 2 MG 300 ML x 10 (/ML)     ...  20000901  E  R   \n",
      "45254  ZIRVIT E CAPS GELATIN 400 IU x 30             ...  20011001  P  M   \n",
      "45255  ZIRVIT MULTI CPR REVEST x 30                  ...  20011001  P  M   \n",
      "45256  ZIRVIT PLUS CPR REVEST x 30                   ...  20011001  P  M   \n",
      "\n",
      "          7       8      9    10               11  \n",
      "0       0.05  0.0005  S01E2  NGB  007897316804209  \n",
      "1       0.10  0.0100  D06A0  MTA  007898060131788  \n",
      "2       0.50  0.0100  A11E1  ABA  007899620911208  \n",
      "3       1.00  0.0100  A11E1  ABA  007899620911215  \n",
      "4       0.30  0.0100  A11D9  DGB  007899620911871  \n",
      "...      ...     ...    ...  ...              ...  \n",
      "45252   0.10  0.0100  J01X9  ABA  007891268107906  \n",
      "45253  30.00  3.0000  J01X9  FQC  007891268107913  \n",
      "45254   0.30  0.0100  A11X3  ACA  007896317901221  \n",
      "45255   0.30  0.0100  A11A4  ABC  007899824401048  \n",
      "45256   0.30  0.0100  A11A4  ABC  007899824400676  \n",
      "\n",
      "[45257 rows x 12 columns]\n"
     ]
    }
   ],
   "source": [
    "pd.DataFrame(df)"
   ]
  },
  {
   "cell_type": "code",
   "execution_count": null,
   "id": "1544277c",
   "metadata": {},
   "outputs": [],
   "source": []
  }
 ],
 "metadata": {
  "kernelspec": {
   "display_name": "Python 3 (ipykernel)",
   "language": "python",
   "name": "python3"
  },
  "language_info": {
   "codemirror_mode": {
    "name": "ipython",
    "version": 3
   },
   "file_extension": ".py",
   "mimetype": "text/x-python",
   "name": "python",
   "nbconvert_exporter": "python",
   "pygments_lexer": "ipython3",
   "version": "3.9.12"
  }
 },
 "nbformat": 4,
 "nbformat_minor": 5
}
