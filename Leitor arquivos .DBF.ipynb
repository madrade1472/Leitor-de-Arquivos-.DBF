{
 "cells": [
  {
   "cell_type": "code",
   "execution_count": 1,
   "id": "c452f3a6",
   "metadata": {},
   "outputs": [],
   "source": [
    "import dbf\n",
    "import pandas as pd"
   ]
  },
  {
   "cell_type": "code",
   "execution_count": 2,
   "id": "36dfcd3d",
   "metadata": {},
   "outputs": [],
   "source": [
    "thisTable = dbf.Table('C:/Users/29086/Downloads/FFF_BRA_PM_PPP_EUF_202207/PM_PPP_SUBS.DBF')"
   ]
  },
  {
   "cell_type": "code",
   "execution_count": 3,
   "id": "c923db2e",
   "metadata": {},
   "outputs": [
    {
     "data": {
      "text/plain": [
       "dbf.Table('C:/Users/29086/Downloads/FFF_BRA_PM_PPP_EUF_202207/PM_PPP_SUBS.DBF', status=<DbfStatus.READ_ONLY: 1>)"
      ]
     },
     "execution_count": 3,
     "metadata": {},
     "output_type": "execute_result"
    }
   ],
   "source": [
    "thisTable.open(mode=dbf.READ_ONLY)"
   ]
  },
  {
   "cell_type": "code",
   "execution_count": 4,
   "id": "234cbb95",
   "metadata": {},
   "outputs": [
    {
     "data": {
      "text/plain": [
       "dbf.Table('C:/Users/29086/Downloads/FFF_BRA_PM_PPP_EUF_202207/PM_PPP_SUBS.DBF', status=<DbfStatus.READ_ONLY: 1>)"
      ]
     },
     "execution_count": 4,
     "metadata": {},
     "output_type": "execute_result"
    }
   ],
   "source": [
    "thisTable.open()"
   ]
  },
  {
   "cell_type": "code",
   "execution_count": 5,
   "id": "3b93d569",
   "metadata": {},
   "outputs": [
    {
     "name": "stdout",
     "output_type": "stream",
     "text": [
      "\n",
      "        Table:         C:/Users/29086/Downloads/FFF_BRA_PM_PPP_EUF_202207/PM_PPP_SUBS.DBF\n",
      "        Type:          dBase III Plus\n",
      "        Codepage:      ascii (plain ol' ascii)\n",
      "        Status:        DbfStatus.READ_ONLY\n",
      "        Last updated:  2022-08-10\n",
      "        Record count:  20852\n",
      "        Field count:   6\n",
      "        Record length: 183 \n",
      "        --Fields--\n",
      "          0) b'FAMI_CODE C(4)'\n",
      "          1) b'FAMI_DESC C(48)'\n",
      "          2) b'SBFA_CODE C(6)'\n",
      "          3) b'SBFA_DESC C(48)'\n",
      "          4) b'SUBS_CODE C(6)'\n",
      "          5) b'SUBS_DESC C(70)'\n",
      "\n"
     ]
    }
   ],
   "source": [
    "print(thisTable)"
   ]
  },
  {
   "cell_type": "code",
   "execution_count": 1,
   "id": "08726a2e",
   "metadata": {},
   "outputs": [
    {
     "ename": "NameError",
     "evalue": "name 'pd' is not defined",
     "output_type": "error",
     "traceback": [
      "\u001b[1;31m---------------------------------------------------------------------------\u001b[0m",
      "\u001b[1;31mNameError\u001b[0m                                 Traceback (most recent call last)",
      "Input \u001b[1;32mIn [1]\u001b[0m, in \u001b[0;36m<cell line: 1>\u001b[1;34m()\u001b[0m\n\u001b[1;32m----> 1\u001b[0m thisTable \u001b[38;5;241m=\u001b[39m \u001b[43mpd\u001b[49m\u001b[38;5;241m.\u001b[39mthisTable\n",
      "\u001b[1;31mNameError\u001b[0m: name 'pd' is not defined"
     ]
    }
   ],
   "source": [
    "thisTable = pd.thisTable\n"
   ]
  },
  {
   "cell_type": "code",
   "execution_count": null,
   "id": "c46b709a",
   "metadata": {},
   "outputs": [],
   "source": [
    "TabelaPanda"
   ]
  }
 ],
 "metadata": {
  "kernelspec": {
   "display_name": "Python 3 (ipykernel)",
   "language": "python",
   "name": "python3"
  },
  "language_info": {
   "codemirror_mode": {
    "name": "ipython",
    "version": 3
   },
   "file_extension": ".py",
   "mimetype": "text/x-python",
   "name": "python",
   "nbconvert_exporter": "python",
   "pygments_lexer": "ipython3",
   "version": "3.9.12"
  }
 },
 "nbformat": 4,
 "nbformat_minor": 5
}
