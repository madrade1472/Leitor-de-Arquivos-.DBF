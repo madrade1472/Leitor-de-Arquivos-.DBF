{
 "cells": [
  {
   "cell_type": "code",
   "execution_count": 1,
   "id": "aefb6028",
   "metadata": {},
   "outputs": [],
   "source": [
    "import pandas as pd\n",
    "import dbf"
   ]
  },
  {
   "cell_type": "code",
   "execution_count": 2,
   "id": "8a683c29",
   "metadata": {},
   "outputs": [],
   "source": [
    "thisTable = dbf.Table('C:/Users/29086/Downloads/FFF_BRA_PM_PPP_EUF_202207/PM_PPP_REGI.DBF')"
   ]
  },
  {
   "cell_type": "code",
   "execution_count": 3,
   "id": "d6ad6e2f",
   "metadata": {},
   "outputs": [
    {
     "data": {
      "text/plain": [
       "dbf.Table('C:/Users/29086/Downloads/FFF_BRA_PM_PPP_EUF_202207/PM_PPP_REGI.DBF', status=<DbfStatus.READ_ONLY: 1>)"
      ]
     },
     "execution_count": 3,
     "metadata": {},
     "output_type": "execute_result"
    }
   ],
   "source": [
    "thisTable.open(mode=dbf.READ_ONLY)"
   ]
  },
  {
   "cell_type": "code",
   "execution_count": 4,
   "id": "42b8aee0",
   "metadata": {},
   "outputs": [
    {
     "data": {
      "text/plain": [
       "dbf.Table('C:/Users/29086/Downloads/FFF_BRA_PM_PPP_EUF_202207/PM_PPP_REGI.DBF', status=<DbfStatus.READ_ONLY: 1>)"
      ]
     },
     "execution_count": 4,
     "metadata": {},
     "output_type": "execute_result"
    }
   ],
   "source": [
    "thisTable.open()"
   ]
  },
  {
   "cell_type": "code",
   "execution_count": 5,
   "id": "ec66d814",
   "metadata": {},
   "outputs": [
    {
     "name": "stdout",
     "output_type": "stream",
     "text": [
      "\n",
      "        Table:         C:/Users/29086/Downloads/FFF_BRA_PM_PPP_EUF_202207/PM_PPP_REGI.DBF\n",
      "        Type:          dBase III Plus\n",
      "        Codepage:      ascii (plain ol' ascii)\n",
      "        Status:        DbfStatus.READ_ONLY\n",
      "        Last updated:  2022-08-10\n",
      "        Record count:  11\n",
      "        Field count:   3\n",
      "        Record length: 29 \n",
      "        --Fields--\n",
      "          0) b'REGN_COD C(2)'\n",
      "          1) b'REGN_DES C(20)'\n",
      "          2) b'REGN_RES C(6)'\n",
      "\n"
     ]
    }
   ],
   "source": [
    "print(thisTable)"
   ]
  },
  {
   "cell_type": "code",
   "execution_count": 6,
   "id": "b6501074",
   "metadata": {},
   "outputs": [],
   "source": [
    "thisTable = pd.DataFrame(thisTable)\n"
   ]
  },
  {
   "cell_type": "code",
   "execution_count": 7,
   "id": "44a0231c",
   "metadata": {},
   "outputs": [
    {
     "data": {
      "text/html": [
       "<div>\n",
       "<style scoped>\n",
       "    .dataframe tbody tr th:only-of-type {\n",
       "        vertical-align: middle;\n",
       "    }\n",
       "\n",
       "    .dataframe tbody tr th {\n",
       "        vertical-align: top;\n",
       "    }\n",
       "\n",
       "    .dataframe thead th {\n",
       "        text-align: right;\n",
       "    }\n",
       "</style>\n",
       "<table border=\"1\" class=\"dataframe\">\n",
       "  <thead>\n",
       "    <tr style=\"text-align: right;\">\n",
       "      <th></th>\n",
       "      <th>0</th>\n",
       "      <th>1</th>\n",
       "      <th>2</th>\n",
       "    </tr>\n",
       "  </thead>\n",
       "  <tbody>\n",
       "    <tr>\n",
       "      <th>0</th>\n",
       "      <td>01</td>\n",
       "      <td>SP - CAPITAL</td>\n",
       "      <td>REG 01</td>\n",
       "    </tr>\n",
       "    <tr>\n",
       "      <th>1</th>\n",
       "      <td>02</td>\n",
       "      <td>SP - INTERIOR</td>\n",
       "      <td>REG 02</td>\n",
       "    </tr>\n",
       "    <tr>\n",
       "      <th>2</th>\n",
       "      <td>03</td>\n",
       "      <td>RJ+ES</td>\n",
       "      <td>REG 03</td>\n",
       "    </tr>\n",
       "    <tr>\n",
       "      <th>3</th>\n",
       "      <td>04</td>\n",
       "      <td>MG</td>\n",
       "      <td>REG 04</td>\n",
       "    </tr>\n",
       "    <tr>\n",
       "      <th>4</th>\n",
       "      <td>05</td>\n",
       "      <td>RS</td>\n",
       "      <td>REG 05</td>\n",
       "    </tr>\n",
       "    <tr>\n",
       "      <th>5</th>\n",
       "      <td>06</td>\n",
       "      <td>PR+SC</td>\n",
       "      <td>REG 06</td>\n",
       "    </tr>\n",
       "    <tr>\n",
       "      <th>6</th>\n",
       "      <td>07</td>\n",
       "      <td>PE+AL+PB+RN</td>\n",
       "      <td>REG 07</td>\n",
       "    </tr>\n",
       "    <tr>\n",
       "      <th>7</th>\n",
       "      <td>08</td>\n",
       "      <td>BA+SE</td>\n",
       "      <td>REG 08</td>\n",
       "    </tr>\n",
       "    <tr>\n",
       "      <th>8</th>\n",
       "      <td>09</td>\n",
       "      <td>CE+MA+PI</td>\n",
       "      <td>REG 09</td>\n",
       "    </tr>\n",
       "    <tr>\n",
       "      <th>9</th>\n",
       "      <td>10</td>\n",
       "      <td>GO+MT+MS+TO+DF</td>\n",
       "      <td>REG 10</td>\n",
       "    </tr>\n",
       "    <tr>\n",
       "      <th>10</th>\n",
       "      <td>11</td>\n",
       "      <td>AM+PA+RO+RR+AC+AP</td>\n",
       "      <td>REG 11</td>\n",
       "    </tr>\n",
       "  </tbody>\n",
       "</table>\n",
       "</div>"
      ],
      "text/plain": [
       "     0                     1       2\n",
       "0   01  SP - CAPITAL          REG 01\n",
       "1   02  SP - INTERIOR         REG 02\n",
       "2   03  RJ+ES                 REG 03\n",
       "3   04  MG                    REG 04\n",
       "4   05  RS                    REG 05\n",
       "5   06  PR+SC                 REG 06\n",
       "6   07  PE+AL+PB+RN           REG 07\n",
       "7   08  BA+SE                 REG 08\n",
       "8   09  CE+MA+PI              REG 09\n",
       "9   10  GO+MT+MS+TO+DF        REG 10\n",
       "10  11  AM+PA+RO+RR+AC+AP     REG 11"
      ]
     },
     "execution_count": 7,
     "metadata": {},
     "output_type": "execute_result"
    }
   ],
   "source": [
    "thisTable"
   ]
  },
  {
   "cell_type": "code",
   "execution_count": null,
   "id": "fdda5285",
   "metadata": {},
   "outputs": [],
   "source": []
  }
 ],
 "metadata": {
  "kernelspec": {
   "display_name": "Python 3 (ipykernel)",
   "language": "python",
   "name": "python3"
  },
  "language_info": {
   "codemirror_mode": {
    "name": "ipython",
    "version": 3
   },
   "file_extension": ".py",
   "mimetype": "text/x-python",
   "name": "python",
   "nbconvert_exporter": "python",
   "pygments_lexer": "ipython3",
   "version": "3.9.12"
  }
 },
 "nbformat": 4,
 "nbformat_minor": 5
}
